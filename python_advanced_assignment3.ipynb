{
 "cells": [
  {
   "cell_type": "code",
   "execution_count": 2,
   "metadata": {},
   "outputs": [
    {
     "name": "stdout",
     "output_type": "stream",
     "text": [
      "Woof\n",
      "Meow\n"
     ]
    }
   ],
   "source": [
    "#1. What is the concept of an abstract superclass?\n",
    "#Answer:\n",
    "'''The concept of an abstract superclass is related to the concept of abstraction in object-oriented programming. An abstract superclass, \n",
    "also known as an abstract base class (ABC), is a class that is designed to serve as a blueprint for its subclasses rather than being \n",
    "instantiated itself. It defines a common interface and provides a set of methods that subclasses must implement.\n",
    "\n",
    "In Python, abstract superclasses are created using the abc module, which stands for \"Abstract Base Classes.\" The abc module provides the ABC \n",
    "class and the abstractmethod decorator, which allow you to define abstract methods and create abstract superclasses. '''\n",
    "\n",
    "#Exp:\n",
    "from abc import ABC, abstractmethod\n",
    "\n",
    "class Animal(ABC):\n",
    "    @abstractmethod\n",
    "    def sound(self):\n",
    "        pass\n",
    "    \n",
    "    @abstractmethod\n",
    "    def move(self):\n",
    "        pass\n",
    "\n",
    "class Dog(Animal):\n",
    "    def sound(self):\n",
    "        return \"Woof\"\n",
    "    \n",
    "    def move(self):\n",
    "        return \"Running\"\n",
    "\n",
    "class Cat(Animal):\n",
    "    def sound(self):\n",
    "        return \"Meow\"\n",
    "    \n",
    "    def move(self):\n",
    "        return \"Jumping\"\n",
    "\n",
    "# Creating instances of subclasses\n",
    "dog = Dog()\n",
    "cat = Cat()\n",
    "\n",
    "# Calling abstract methods on subclass instances\n",
    "print(dog.sound())\n",
    "print(cat.sound())\n"
   ]
  },
  {
   "cell_type": "code",
   "execution_count": null,
   "metadata": {},
   "outputs": [],
   "source": [
    "#2. What happens when a class statement&#39;s top level contains a basic assignment statement?\n",
    "#Answer:\n",
    "'''When a class statement's top level contains a basic assignment statement, it means that a class attribute is being defined. The assignment \n",
    "statement outside any method and directly within the class scope is used to create and assign a value to a class attribute. '''\n",
    "\n",
    "#Exp:\n",
    "class MyClass:\n",
    "    attribute = \"Value\"\n"
   ]
  },
  {
   "cell_type": "code",
   "execution_count": null,
   "metadata": {},
   "outputs": [],
   "source": [
    "#Q - 3. Why does a class need to manually call a superclass&#39;s __init__ method?\n",
    "#Answer:\n",
    "In Python, a class needs to manually call a superclass's __init__ method when the subclass wants to inherit and initialize the attributes and behavior defined in the superclass. By calling the superclass's __init__ method, the subclass ensures that the superclass's initialization logic is executed before performing its own specific initialization.\n",
    "\n",
    "Here are a few reasons why a subclass may need to call the superclass's __init__ method:\n",
    "\n",
    "1. Inheritance of attributes and behavior: By calling the superclass's __init__ method, the subclass can inherit and initialize any attributes \n",
    "or behavior defined in the superclass. This allows the subclass to leverage the functionality provided by the superclass and avoid duplicating \n",
    "code.\n",
    "\n",
    "2. Overriding the superclass's initialization: If the subclass wants to extend or modify the initialization behavior defined in the superclass, \n",
    "it can call the superclass's __init__ method and then add its own additional initialization logic. This ensures that both the superclass and \n",
    "subclass initialization steps are executed in the desired order.\n",
    "\n",
    "3. Proper initialization of the object's state: The __init__ method is responsible for initializing the state of an object when it is created. \n",
    "By calling the superclass's __init__ method, the subclass ensures that the object's state is properly initialized, including any attributes or \n",
    "settings that are crucial for the object's correct functioning.\n",
    "\n",
    "To call the superclass's __init__ method from the subclass, you can use the super() function. The super() function returns a temporary object of \n",
    "the superclass, allowing you to call its methods."
   ]
  },
  {
   "cell_type": "code",
   "execution_count": 4,
   "metadata": {},
   "outputs": [
    {
     "name": "stdout",
     "output_type": "stream",
     "text": [
      "Superclass method\n",
      "Subclass method\n"
     ]
    }
   ],
   "source": [
    "#Q - 4. How can you augment, instead of completely replacing, an inherited method?\n",
    "#Answer:\n",
    "'''To augment an inherited method rather than completely replacing it, you can follow these steps:\n",
    "\n",
    "1. Define the method in the subclass with the same name as the method you want to augment in the superclass.\n",
    "\n",
    "2. Inside the subclass method, call the superclass's version of the method using the super() function.\n",
    "\n",
    "3. Add any additional behavior or modifications specific to the subclass.\n",
    "\n",
    "By calling super().method_name(), you ensure that the superclass's version of the method is executed before any additional modifications or \n",
    "behaviors in the subclass.'''\n",
    "\n",
    "#Exp:\n",
    "class Superclass:\n",
    "    def method(self):\n",
    "        print(\"Superclass method\")\n",
    "\n",
    "class Subclass(Superclass):\n",
    "    def method(self):\n",
    "        super().method()  # Call superclass's version of the method\n",
    "        print(\"Subclass method\")\n",
    "\n",
    "# Create an instance of the subclass\n",
    "sub = Subclass()\n",
    "sub.method()\n"
   ]
  },
  {
   "cell_type": "code",
   "execution_count": null,
   "metadata": {},
   "outputs": [],
   "source": [
    "#5. How is the local scope of a class different from that of a function?\n",
    "#Answer:\n",
    "The local scope of a class and that of a function in Python have some key differences:\n",
    "\n",
    "- Class Scope: In Python, the local scope of a class refers to the namespace within the class definition. Class attributes and methods are \n",
    "defined within this scope. Variables and functions defined directly within the class (outside any methods) are considered class-level attributes \n",
    "and are accessible to all instances of the class.\n",
    "\n",
    "- Function Scope: The local scope of a function refers to the namespace within the function definition. Variables and parameters defined \n",
    "within the function are part of its local scope and are accessible only within the function itself. Each function call creates a new local scope, \n",
    "and variables defined within the function are destroyed once the function call is complete.\n",
    "\n",
    "- Accessibility: Class attributes are accessible by all instances of the class. They can be accessed using the dot notation, such as ClassName.\n",
    "attribute. In contrast, variables defined within a function are only accessible within that function's scope and cannot be accessed directly \n",
    "from outside the function.\n",
    "\n",
    "- Lifetime: Class attributes have a longer lifetime compared to function-local variables. Class attributes persist throughout the lifespan \n",
    "of the class and are available as long as the class exists. Function-local variables, on the other hand, are created and destroyed each time \n",
    "the function is called."
   ]
  }
 ],
 "metadata": {
  "kernelspec": {
   "display_name": "Python 3.9.6 64-bit",
   "language": "python",
   "name": "python3"
  },
  "language_info": {
   "codemirror_mode": {
    "name": "ipython",
    "version": 3
   },
   "file_extension": ".py",
   "mimetype": "text/x-python",
   "name": "python",
   "nbconvert_exporter": "python",
   "pygments_lexer": "ipython3",
   "version": "3.9.6"
  },
  "orig_nbformat": 4,
  "vscode": {
   "interpreter": {
    "hash": "31f2aee4e71d21fbe5cf8b01ff0e069b9275f58929596ceb00d14d90e3e16cd6"
   }
  }
 },
 "nbformat": 4,
 "nbformat_minor": 2
}
